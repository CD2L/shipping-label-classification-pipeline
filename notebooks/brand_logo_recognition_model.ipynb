{
 "cells": [
  {
   "cell_type": "code",
   "execution_count": 21,
   "metadata": {},
   "outputs": [],
   "source": [
    "import torch\n",
    "from torch import nn\n",
    "import torchvision\n",
    "\n",
    "dtype = torch.float\n",
    "device = torch.device(\"cuda\" if torch.cuda.is_available() else \"cpu\")"
   ]
  },
  {
   "cell_type": "code",
   "execution_count": 30,
   "metadata": {},
   "outputs": [],
   "source": [
    "nbatchs = 5\n",
    "embed_size = 50\n",
    "lr = 2e-3"
   ]
  },
  {
   "cell_type": "code",
   "execution_count": 28,
   "metadata": {},
   "outputs": [],
   "source": [
    "class SiameseNet(nn.Module):\n",
    "    def __init__(self,\n",
    "        embed_size: int,\n",
    "    ) -> None:\n",
    "        super(SiameseNet, self).__init__()\n",
    "\n",
    "        self.encoder = torchvision.models.vgg11(progress=False)\n",
    "        self.fc = nn.Sequential(\n",
    "            nn.Linear(1, embed_size),\n",
    "            nn.ReLU(),\n",
    "            nn.Linear(embed_size, 1),\n",
    "        )\n",
    "\n",
    "    def forward(self, x1: torch.tensor, x2: torch.tensor) -> torch.tensor:\n",
    "        x1 = self.encoder(x1)\n",
    "        x2 = self.encoder(x2)\n",
    "\n",
    "        dist = torch.nn.functional.cosine_similarity(x1, x2).view(-1,1)\n",
    "        return self.fc(dist)"
   ]
  },
  {
   "cell_type": "code",
   "execution_count": 32,
   "metadata": {},
   "outputs": [
    {
     "name": "stderr",
     "output_type": "stream",
     "text": [
      "Exception ignored in: <function WeakKeyDictionary.__init__.<locals>.remove at 0x0000029F4AB5F130>\n",
      "Traceback (most recent call last):\n",
      "  File \"c:\\Users\\Lenovo\\AppData\\Local\\Programs\\Python\\Python310\\lib\\weakref.py\", line 371, in remove\n",
      "    self = selfref()\n",
      "KeyboardInterrupt: \n"
     ]
    },
    {
     "ename": "KeyboardInterrupt",
     "evalue": "",
     "output_type": "error",
     "traceback": [
      "\u001b[1;31m---------------------------------------------------------------------------\u001b[0m",
      "\u001b[1;31mKeyboardInterrupt\u001b[0m                         Traceback (most recent call last)",
      "Cell \u001b[1;32mIn [32], line 8\u001b[0m\n\u001b[0;32m      6\u001b[0m x \u001b[39m=\u001b[39m torch\u001b[39m.\u001b[39mrandn(size\u001b[39m=\u001b[39m(nbatchs, \u001b[39m3\u001b[39m, \u001b[39m264\u001b[39m, \u001b[39m400\u001b[39m), dtype\u001b[39m=\u001b[39mdtype)\u001b[39m.\u001b[39mto(device)\n\u001b[0;32m      7\u001b[0m y \u001b[39m=\u001b[39m torch\u001b[39m.\u001b[39mrandn(size\u001b[39m=\u001b[39m(nbatchs, \u001b[39m1\u001b[39m), dtype\u001b[39m=\u001b[39mdtype)\u001b[39m.\u001b[39mto(device)\n\u001b[1;32m----> 8\u001b[0m loss_fn(m(x, x), y)\n",
      "File \u001b[1;32m~\\AppData\\Roaming\\Python\\Python310\\site-packages\\IPython\\core\\displayhook.py:260\u001b[0m, in \u001b[0;36mDisplayHook.__call__\u001b[1;34m(self, result)\u001b[0m\n\u001b[0;32m    258\u001b[0m \u001b[39mself\u001b[39m\u001b[39m.\u001b[39mcheck_for_underscore()\n\u001b[0;32m    259\u001b[0m \u001b[39mif\u001b[39;00m result \u001b[39mis\u001b[39;00m \u001b[39mnot\u001b[39;00m \u001b[39mNone\u001b[39;00m \u001b[39mand\u001b[39;00m \u001b[39mnot\u001b[39;00m \u001b[39mself\u001b[39m\u001b[39m.\u001b[39mquiet():\n\u001b[1;32m--> 260\u001b[0m     \u001b[39mself\u001b[39;49m\u001b[39m.\u001b[39;49mstart_displayhook()\n\u001b[0;32m    261\u001b[0m     \u001b[39mself\u001b[39m\u001b[39m.\u001b[39mwrite_output_prompt()\n\u001b[0;32m    262\u001b[0m     format_dict, md_dict \u001b[39m=\u001b[39m \u001b[39mself\u001b[39m\u001b[39m.\u001b[39mcompute_format_data(result)\n",
      "File \u001b[1;32m~\\AppData\\Roaming\\Python\\Python310\\site-packages\\ipykernel\\displayhook.py:67\u001b[0m, in \u001b[0;36mZMQShellDisplayHook.start_displayhook\u001b[1;34m(self)\u001b[0m\n\u001b[0;32m     66\u001b[0m \u001b[39mdef\u001b[39;00m \u001b[39mstart_displayhook\u001b[39m(\u001b[39mself\u001b[39m):\n\u001b[1;32m---> 67\u001b[0m     \u001b[39mself\u001b[39m\u001b[39m.\u001b[39mmsg \u001b[39m=\u001b[39m \u001b[39mself\u001b[39;49m\u001b[39m.\u001b[39;49msession\u001b[39m.\u001b[39;49mmsg(\n\u001b[0;32m     68\u001b[0m         \u001b[39m\"\u001b[39;49m\u001b[39mexecute_result\u001b[39;49m\u001b[39m\"\u001b[39;49m,\n\u001b[0;32m     69\u001b[0m         {\n\u001b[0;32m     70\u001b[0m             \u001b[39m\"\u001b[39;49m\u001b[39mdata\u001b[39;49m\u001b[39m\"\u001b[39;49m: {},\n\u001b[0;32m     71\u001b[0m             \u001b[39m\"\u001b[39;49m\u001b[39mmetadata\u001b[39;49m\u001b[39m\"\u001b[39;49m: {},\n\u001b[0;32m     72\u001b[0m         },\n\u001b[0;32m     73\u001b[0m         parent\u001b[39m=\u001b[39;49m\u001b[39mself\u001b[39;49m\u001b[39m.\u001b[39;49mparent_header,\n\u001b[0;32m     74\u001b[0m     )\n",
      "File \u001b[1;32mc:\\Users\\Lenovo\\AppData\\Local\\Programs\\Python\\Python310\\lib\\site-packages\\jupyter_client\\session.py:661\u001b[0m, in \u001b[0;36mSession.msg\u001b[1;34m(self, msg_type, content, parent, header, metadata)\u001b[0m\n\u001b[0;32m    654\u001b[0m \u001b[39m\"\"\"Return the nested message dict.\u001b[39;00m\n\u001b[0;32m    655\u001b[0m \n\u001b[0;32m    656\u001b[0m \u001b[39mThis format is different from what is sent over the wire. The\u001b[39;00m\n\u001b[0;32m    657\u001b[0m \u001b[39mserialize/deserialize methods converts this nested message dict to the wire\u001b[39;00m\n\u001b[0;32m    658\u001b[0m \u001b[39mformat, which is a list of message parts.\u001b[39;00m\n\u001b[0;32m    659\u001b[0m \u001b[39m\"\"\"\u001b[39;00m\n\u001b[0;32m    660\u001b[0m msg \u001b[39m=\u001b[39m {}\n\u001b[1;32m--> 661\u001b[0m header \u001b[39m=\u001b[39m \u001b[39mself\u001b[39;49m\u001b[39m.\u001b[39;49mmsg_header(msg_type) \u001b[39mif\u001b[39;00m header \u001b[39mis\u001b[39;00m \u001b[39mNone\u001b[39;00m \u001b[39melse\u001b[39;00m header\n\u001b[0;32m    662\u001b[0m msg[\u001b[39m\"\u001b[39m\u001b[39mheader\u001b[39m\u001b[39m\"\u001b[39m] \u001b[39m=\u001b[39m header\n\u001b[0;32m    663\u001b[0m msg[\u001b[39m\"\u001b[39m\u001b[39mmsg_id\u001b[39m\u001b[39m\"\u001b[39m] \u001b[39m=\u001b[39m header[\u001b[39m\"\u001b[39m\u001b[39mmsg_id\u001b[39m\u001b[39m\"\u001b[39m]\n",
      "File \u001b[1;32mc:\\Users\\Lenovo\\AppData\\Local\\Programs\\Python\\Python310\\lib\\site-packages\\jupyter_client\\session.py:644\u001b[0m, in \u001b[0;36mSession.msg_header\u001b[1;34m(self, msg_type)\u001b[0m\n\u001b[0;32m    643\u001b[0m \u001b[39mdef\u001b[39;00m \u001b[39mmsg_header\u001b[39m(\u001b[39mself\u001b[39m, msg_type: \u001b[39mstr\u001b[39m) \u001b[39m-\u001b[39m\u001b[39m>\u001b[39m t\u001b[39m.\u001b[39mDict[\u001b[39mstr\u001b[39m, t\u001b[39m.\u001b[39mAny]:\n\u001b[1;32m--> 644\u001b[0m     \u001b[39mreturn\u001b[39;00m msg_header(\u001b[39mself\u001b[39;49m\u001b[39m.\u001b[39;49mmsg_id, msg_type, \u001b[39mself\u001b[39m\u001b[39m.\u001b[39musername, \u001b[39mself\u001b[39m\u001b[39m.\u001b[39msession)\n",
      "File \u001b[1;32mc:\\Users\\Lenovo\\AppData\\Local\\Programs\\Python\\Python310\\lib\\site-packages\\jupyter_client\\session.py:603\u001b[0m, in \u001b[0;36mSession.msg_id\u001b[1;34m(self)\u001b[0m\n\u001b[0;32m    601\u001b[0m message_number \u001b[39m=\u001b[39m \u001b[39mself\u001b[39m\u001b[39m.\u001b[39mmessage_count\n\u001b[0;32m    602\u001b[0m \u001b[39mself\u001b[39m\u001b[39m.\u001b[39mmessage_count \u001b[39m+\u001b[39m\u001b[39m=\u001b[39m \u001b[39m1\u001b[39m\n\u001b[1;32m--> 603\u001b[0m \u001b[39mreturn\u001b[39;00m \u001b[39mf\u001b[39m\u001b[39m\"\u001b[39m\u001b[39m{\u001b[39;00m\u001b[39mself\u001b[39;49m\u001b[39m.\u001b[39;49msession\u001b[39m}\u001b[39;00m\u001b[39m_\u001b[39m\u001b[39m{\u001b[39;00mos\u001b[39m.\u001b[39mgetpid()\u001b[39m}\u001b[39;00m\u001b[39m_\u001b[39m\u001b[39m{\u001b[39;00mmessage_number\u001b[39m}\u001b[39;00m\u001b[39m\"\u001b[39m\n",
      "File \u001b[1;32m~\\AppData\\Roaming\\Python\\Python310\\site-packages\\traitlets\\traitlets.py:683\u001b[0m, in \u001b[0;36mTraitType.__get__\u001b[1;34m(self, obj, cls)\u001b[0m\n\u001b[0;32m    675\u001b[0m \u001b[39mdef\u001b[39;00m \u001b[39m__get__\u001b[39m(\u001b[39mself\u001b[39m, obj, \u001b[39mcls\u001b[39m\u001b[39m=\u001b[39m\u001b[39mNone\u001b[39;00m):\n\u001b[0;32m    676\u001b[0m     \u001b[39m\"\"\"Get the value of the trait by self.name for the instance.\u001b[39;00m\n\u001b[0;32m    677\u001b[0m \n\u001b[0;32m    678\u001b[0m \u001b[39m    Default values are instantiated when :meth:`HasTraits.__new__`\u001b[39;00m\n\u001b[1;32m   (...)\u001b[0m\n\u001b[0;32m    681\u001b[0m \u001b[39m    is in the :class:`HasTraits` instance.\u001b[39;00m\n\u001b[0;32m    682\u001b[0m \u001b[39m    \"\"\"\u001b[39;00m\n\u001b[1;32m--> 683\u001b[0m     \u001b[39mif\u001b[39;00m obj \u001b[39mis\u001b[39;49;00m \u001b[39mNone\u001b[39;49;00m:\n\u001b[0;32m    684\u001b[0m         \u001b[39mreturn\u001b[39;00m \u001b[39mself\u001b[39m\n\u001b[0;32m    685\u001b[0m     \u001b[39melse\u001b[39;00m:\n",
      "\u001b[1;31mKeyboardInterrupt\u001b[0m: "
     ]
    }
   ],
   "source": [
    "m = SiameseNet(embed_size=50)\n",
    "\n",
    "loss_fn = nn.BCEWithLogitsLoss()\n",
    "optim = torch.optim.Adam(m.parameters(), lr=lr)\n",
    "\n",
    "x = torch.randn(size=(nbatchs, 3, 264, 400), dtype=dtype).to(device)\n",
    "y = torch.randn(size=(nbatchs, 1), dtype=dtype).to(device)\n",
    "loss_fn(m(x, x), y)"
   ]
  },
  {
   "cell_type": "code",
   "execution_count": 22,
   "metadata": {},
   "outputs": [],
   "source": [
    "vgg11 = torchvision.models.vgg11(progress=False)"
   ]
  }
 ],
 "metadata": {
  "kernelspec": {
   "display_name": "Python 3.10.5 64-bit",
   "language": "python",
   "name": "python3"
  },
  "language_info": {
   "codemirror_mode": {
    "name": "ipython",
    "version": 3
   },
   "file_extension": ".py",
   "mimetype": "text/x-python",
   "name": "python",
   "nbconvert_exporter": "python",
   "pygments_lexer": "ipython3",
   "version": "3.10.5"
  },
  "orig_nbformat": 4,
  "vscode": {
   "interpreter": {
    "hash": "8c3d4d9970fc5c09c50d9318a9c7fbf4d0159e4b28833276f5678ee22bded273"
   }
  }
 },
 "nbformat": 4,
 "nbformat_minor": 2
}
